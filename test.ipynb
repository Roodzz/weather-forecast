{
 "cells": [
  {
   "cell_type": "code",
   "execution_count": 28,
   "metadata": {},
   "outputs": [],
   "source": [
    "import requests\n",
    "from bs4 import BeautifulSoup\n",
    "from selenium import webdriver\n",
    "from webdriver_manager.chrome import ChromeDriverManager\n",
    "from selenium.webdriver.chrome.service import Service\n",
    "import time"
   ]
  },
  {
   "cell_type": "code",
   "execution_count": 21,
   "metadata": {},
   "outputs": [
    {
     "name": "stdout",
     "output_type": "stream",
     "text": [
      "Essa é sua localização!\n",
      "Cidade: São Paulo\n",
      "Região: São Paulo\n",
      "País: BR\n"
     ]
    }
   ],
   "source": [
    "response = requests.get('https://ipinfo.io')\n",
    "data = response.json()\n",
    "\n",
    "city = data['city']\n",
    "region = data['region']\n",
    "country = data['country']\n",
    "\n",
    "print(f\"Essa é sua localização!\")\n",
    "print(f\"Cidade: {city}\")\n",
    "print(f\"Região: {region}\")\n",
    "print(f\"País: {country}\")\n",
    "\n",
    "city_formated = city.replace(\" \", \"-\")"
   ]
  },
  {
   "cell_type": "code",
   "execution_count": 22,
   "metadata": {},
   "outputs": [
    {
     "name": "stdout",
     "output_type": "stream",
     "text": [
      "Localização: São Paulo\n",
      "Horário: domingo, 22:00\n",
      "Temperatura Atual: 22°C\n",
      "Condição: Céu limpo com poucas nuvens\n",
      "\n",
      "Previsão para os próximos dias:\n",
      "Não foi possível encontrar informações climáticas para a cidade especificada.\n"
     ]
    }
   ],
   "source": [
    "def get_weather(city):\n",
    "    url = f\"https://www.google.com/search?q=clima+{city.replace(' ', '+')}\"\n",
    "    \n",
    "    headers = {\n",
    "        \"User-Agent\": \"Mozilla/5.0 (Windows NT 10.0; Win64; x64) AppleWebKit/537.36 (KHTML, like Gecko) Chrome/91.0.4472.124 Safari/537.36\"\n",
    "    }\n",
    "    \n",
    "    response = requests.get(url, headers=headers)\n",
    "    soup = BeautifulSoup(response.content, 'html.parser')\n",
    "    \n",
    "    try:\n",
    "        temp = soup.find('span', attrs={'id': 'wob_tm'}).text\n",
    "        condition = soup.find('span', attrs={'id': 'wob_dc'}).text\n",
    "        # location = soup.find('div', attrs={'id': 'wob_loc'}).text\n",
    "        time = soup.find('div', attrs={'id': 'wob_dts'}).text\n",
    "        \n",
    "        print(f\"Localização: {city}\")\n",
    "        print(f\"Horário: {time}\")\n",
    "        print(f\"Temperatura Atual: {temp}°C\")\n",
    "        print(f\"Condição: {condition}\")\n",
    "\n",
    "        forecast_days = soup.find_all('div', attrs={'class': 'wob_df'})\n",
    "        \n",
    "        print(\"\\nPrevisão para os próximos dias:\")\n",
    "        \n",
    "        for day in forecast_days:\n",
    "            day_name = day.find('div', attrs={'class': 'vk_lgy'}).text\n",
    "            max_temp = day.find('span', attrs={'class': 'wob_t', 'style': 'display:inline'}).text\n",
    "            min_temp = day.find_all('span', attrs={'class': 'wob_t', 'style': 'display:none'})[0].text\n",
    "            condition_day = day.find('img')['alt']\n",
    "            \n",
    "            print(f\"{day_name}: Máxima de {max_temp}°C, Mínima de {min_temp}°C - Condição: {condition_day}\")\n",
    "            \n",
    "\n",
    "    except AttributeError:\n",
    "        print(\"Não foi possível encontrar informações climáticas para a cidade especificada utilizando o bs4. Vamos utilizar o Selenium!\")\n",
    "\n",
    "# Exemplo de uso\n",
    "# city = input(\"Digite sua cidade: \")\n",
    "get_weather(city)\n"
   ]
  },
  {
   "cell_type": "code",
   "execution_count": 34,
   "metadata": {},
   "outputs": [
    {
     "name": "stdout",
     "output_type": "stream",
     "text": [
      "Acessando site: Tempo.com!\n"
     ]
    },
    {
     "ename": "KeyboardInterrupt",
     "evalue": "",
     "output_type": "error",
     "traceback": [
      "\u001b[1;31m---------------------------------------------------------------------------\u001b[0m",
      "\u001b[1;31mKeyboardInterrupt\u001b[0m                         Traceback (most recent call last)",
      "Cell \u001b[1;32mIn[34], line 6\u001b[0m\n\u001b[0;32m      3\u001b[0m \u001b[38;5;28mprint\u001b[39m(\u001b[38;5;124mf\u001b[39m\u001b[38;5;124m\"\u001b[39m\u001b[38;5;124mAcessando site: Tempo.com!\u001b[39m\u001b[38;5;124m\"\u001b[39m)\n\u001b[0;32m      4\u001b[0m driver\u001b[38;5;241m.\u001b[39mget(\u001b[38;5;124mf\u001b[39m\u001b[38;5;124m\"\u001b[39m\u001b[38;5;124mhttps://www.tempo.com/\u001b[39m\u001b[38;5;132;01m{\u001b[39;00mcity_formated\u001b[38;5;132;01m}\u001b[39;00m\u001b[38;5;124m.htm\u001b[39m\u001b[38;5;124m\"\u001b[39m)\n\u001b[1;32m----> 6\u001b[0m \u001b[43mtime\u001b[49m\u001b[38;5;241;43m.\u001b[39;49m\u001b[43msleep\u001b[49m\u001b[43m(\u001b[49m\u001b[38;5;241;43m5\u001b[39;49m\u001b[43m)\u001b[49m\n\u001b[0;32m      7\u001b[0m \u001b[38;5;66;03m# driver.quit()\u001b[39;00m\n",
      "\u001b[1;31mKeyboardInterrupt\u001b[0m: "
     ]
    }
   ],
   "source": [
    "service = Service(ChromeDriverManager().install())\n",
    "driver = webdriver.Chrome(service=service)\n",
    "print(f\"Acessando o site: Tempo.com\")\n",
    "driver.get(f\"https://www.tempo.com/{city_formated}.htm\")\n",
    "\n",
    "time.sleep(5)\n",
    "# driver.quit()"
   ]
  }
 ],
 "metadata": {
  "kernelspec": {
   "display_name": "Python 3",
   "language": "python",
   "name": "python3"
  },
  "language_info": {
   "codemirror_mode": {
    "name": "ipython",
    "version": 3
   },
   "file_extension": ".py",
   "mimetype": "text/x-python",
   "name": "python",
   "nbconvert_exporter": "python",
   "pygments_lexer": "ipython3",
   "version": "3.12.6"
  }
 },
 "nbformat": 4,
 "nbformat_minor": 2
}
